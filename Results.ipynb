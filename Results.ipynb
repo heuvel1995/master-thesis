{
 "cells": [
  {
   "cell_type": "code",
   "execution_count": null,
   "metadata": {
    "ExecuteTime": {
     "end_time": "2020-05-27T10:00:59.888966Z",
     "start_time": "2020-05-27T10:00:57.298035Z"
    }
   },
   "outputs": [],
   "source": [
    "from Simulations import *\n",
    "import os\n",
    "import pickle\n",
    "from joblib import Parallel, delayed\n",
    "import dill\n",
    "from matplotlib.patches import Patch\n",
    "from matplotlib.lines import Line2D\n",
    "save_plots = True"
   ]
  },
  {
   "cell_type": "code",
   "execution_count": null,
   "metadata": {
    "ExecuteTime": {
     "end_time": "2020-05-27T10:00:59.899936Z",
     "start_time": "2020-05-27T10:00:59.892964Z"
    }
   },
   "outputs": [],
   "source": [
    "def calculate_mcc(TP, TN, FP, FN):\n",
    "    return np.divide((TP * TN - FP * FN),np.sqrt((TP + FP) * (TP + FN) * (TN + FP) * (TN + FN)))"
   ]
  },
  {
   "cell_type": "markdown",
   "metadata": {},
   "source": [
    "# Load results & example MetaExperiments"
   ]
  },
  {
   "cell_type": "code",
   "execution_count": null,
   "metadata": {
    "ExecuteTime": {
     "end_time": "2020-05-27T10:01:08.607725Z",
     "start_time": "2020-05-27T10:00:59.981717Z"
    }
   },
   "outputs": [],
   "source": [
    "meta_experiment1 = dill.load(open(r\"example_1.p\",\"rb\"))\n",
    "meta_experiment2 = dill.load(open(r\"example_2.p\",\"rb\"))"
   ]
  },
  {
   "cell_type": "code",
   "execution_count": null,
   "metadata": {
    "ExecuteTime": {
     "end_time": "2020-05-27T10:01:09.177731Z",
     "start_time": "2020-05-27T10:01:08.628673Z"
    }
   },
   "outputs": [],
   "source": [
    "result = []\n",
    "for index, file in enumerate(os.listdir(r\"Result\")): \n",
    "    meta_experiment = dill.load(open(r\"Result\\{}\".format(file),\"rb\"))\n",
    "    meta_experiment['simulation_nr'] = index+1\n",
    "    result.append(meta_experiment)\n",
    "    \n",
    "long_df = pd.concat(result)\n",
    "long_df['n_simulations'] = long_df['simulation_nr'].max()"
   ]
  },
  {
   "cell_type": "code",
   "execution_count": null,
   "metadata": {
    "ExecuteTime": {
     "end_time": "2020-05-27T10:01:11.242744Z",
     "start_time": "2020-05-27T10:01:11.045066Z"
    }
   },
   "outputs": [],
   "source": [
    "long_df.groupby(['policy']).sum()"
   ]
  },
  {
   "cell_type": "code",
   "execution_count": null,
   "metadata": {
    "ExecuteTime": {
     "end_time": "2020-05-27T10:01:13.450305Z",
     "start_time": "2020-05-27T10:01:13.378430Z"
    }
   },
   "outputs": [],
   "source": [
    "relative_regret = long_df.groupby(['policy']).mean()[['total_reward','regret','sample_complexity']]"
   ]
  },
  {
   "cell_type": "code",
   "execution_count": null,
   "metadata": {
    "ExecuteTime": {
     "end_time": "2020-05-27T10:01:15.828693Z",
     "start_time": "2020-05-27T10:01:15.812718Z"
    }
   },
   "outputs": [],
   "source": [
    "relative_regret"
   ]
  },
  {
   "cell_type": "code",
   "execution_count": null,
   "metadata": {
    "ExecuteTime": {
     "end_time": "2020-05-27T10:01:16.088895Z",
     "start_time": "2020-05-27T10:01:15.833672Z"
    }
   },
   "outputs": [],
   "source": [
    "relative_regret = long_df.groupby(['policy']).mean()[['total_reward','regret','sample_complexity']]\n",
    "\n",
    "relative_regret['n_arms'] = df_sim.groupby(['policy'])['n_experiments'].mean()\n",
    "\n",
    "relative_regret = relative_regret.round(2)\n",
    "relative_regret = relative_regret.rename(columns={'total_reward':'Average total reward',\n",
    "                                                  'regret': 'Average regret',\n",
    "                                                  'n_arms': 'Average number of arms evaluated'})\n",
    "\n",
    "relative_regret"
   ]
  },
  {
   "cell_type": "code",
   "execution_count": null,
   "metadata": {
    "ExecuteTime": {
     "end_time": "2020-05-27T10:01:16.092884Z",
     "start_time": "2020-05-27T10:00:59.682Z"
    }
   },
   "outputs": [],
   "source": [
    "f = open(r\"C:\\Building Blocks\\Innovation - Documents\\129. Thesis Jop\\Thesis Jop Heuvelmans - BB & JADS\\Figures\\relative_regret.tex\",\"w+\")\n",
    "f.write(relative_regret.to_latex())\n",
    "f.close()"
   ]
  },
  {
   "cell_type": "code",
   "execution_count": null,
   "metadata": {
    "ExecuteTime": {
     "end_time": "2020-05-27T10:01:32.818565Z",
     "start_time": "2020-05-27T10:01:32.311290Z"
    }
   },
   "outputs": [],
   "source": [
    "df_sim = long_df.groupby(['policy','alpha','initial_pulls','simulation_nr']).agg({'regret':'mean',\n",
    "                                   'net_regret':'mean',\n",
    "                                   'total_reward': 'mean',\n",
    "                                   'sample_complexity': 'mean',\n",
    "                                   'TP': 'sum',\n",
    "                                   'TN': 'sum',\n",
    "                                   'FP': 'sum',\n",
    "                                   'FN': 'sum',\n",
    "                                   'n_simulations':'mean'}).reset_index()\n",
    "\n",
    "df_sim['n_experiments'] = (df_sim['TP'] + df_sim['TN'] + df_sim['FP'] + df_sim['FN'])\n",
    "df_sim['n_variants'] = 4 + (df_sim['n_experiments']-1) * (3)\n",
    "df_sim['MCC'] = df_sim.apply(lambda x: calculate_mcc(x['TP'], x['TN'], x['FP'], x['FN']),axis=1)\n",
    "df_sim['recall'] = df_sim['TP']/(df_sim['TP']+df_sim['FN'])\n",
    "df_sim['precision'] = df_sim['TP']/(df_sim['TP'] + df_sim['FP'])\n",
    "df_sim['FPR'] = df_sim['FP']/(df_sim['FP']+df_sim['TN'])\n",
    "df_sim['FNR'] = df_sim['FN']/(df_sim['FN']+df_sim['TP'])\n",
    "df_sim['FDR'] = df_sim['FP']/(df_sim['FP']+df_sim['TP'])"
   ]
  },
  {
   "cell_type": "code",
   "execution_count": null,
   "metadata": {
    "ExecuteTime": {
     "end_time": "2020-05-27T10:01:34.916972Z",
     "start_time": "2020-05-27T10:01:34.900551Z"
    }
   },
   "outputs": [],
   "source": [
    "df = df_sim.groupby(['policy','alpha','initial_pulls']).agg('mean').reset_index()\n",
    "#del long_df\n",
    "#del df_sim"
   ]
  },
  {
   "cell_type": "code",
   "execution_count": null,
   "metadata": {
    "ExecuteTime": {
     "end_time": "2020-05-27T10:01:37.126802Z",
     "start_time": "2020-05-27T10:01:37.115830Z"
    }
   },
   "outputs": [],
   "source": [
    "#Fix the colors\n",
    "policies = ['Bootstrapped LUCB', 'TTTS', 'A/B testing','LUCB']\n",
    "plt_colors = plt.rcParams['axes.prop_cycle'].by_key()['color'][:4]\n",
    "colors = {policy: color for policy, color in zip(policies, plt_colors)}\n",
    "colors['MCC'] = plt.rcParams['axes.prop_cycle'].by_key()['color'][4]\n",
    "colors['precision'] = plt.rcParams['axes.prop_cycle'].by_key()['color'][5]\n",
    "colors['recall'] = plt.rcParams['axes.prop_cycle'].by_key()['color'][6]\n",
    "colors['FDR'] = plt.rcParams['axes.prop_cycle'].by_key()['color'][7]\n",
    "colors['mean'] = plt.rcParams['axes.prop_cycle'].by_key()['color'][8]\n",
    "colors['alpha'] = plt.rcParams['axes.prop_cycle'].by_key()['color'][9]"
   ]
  },
  {
   "cell_type": "markdown",
   "metadata": {},
   "source": [
    "# Example of variant queue"
   ]
  },
  {
   "cell_type": "code",
   "execution_count": null,
   "metadata": {
    "ExecuteTime": {
     "end_time": "2020-05-27T10:01:39.839939Z",
     "start_time": "2020-05-27T10:01:39.187682Z"
    }
   },
   "outputs": [],
   "source": [
    "plt.figure(figsize=(10,5))\n",
    "plt.scatter(np.arange(len(meta_experiment1.variant_queue)), meta_experiment1.variant_queue, label='Success probability (p)')\n",
    "plt.xlabel('Variant number')\n",
    "plt.ylabel('Success probability (p)')\n",
    "#plt.title('Example of a variant_queue')\n",
    "plt.legend(loc='upper left')\n",
    "if save_plots: plt.savefig(r\"C:\\Building Blocks\\Innovation - Documents\\129. Thesis Jop\\Thesis Jop Heuvelmans - BB & JADS\\Figures\\variant_queue.pdf\")\n",
    "plt.show()"
   ]
  },
  {
   "cell_type": "markdown",
   "metadata": {},
   "source": [
    "# Results to table"
   ]
  },
  {
   "cell_type": "code",
   "execution_count": null,
   "metadata": {
    "ExecuteTime": {
     "end_time": "2020-05-27T10:01:42.253490Z",
     "start_time": "2020-05-27T10:01:42.222573Z"
    }
   },
   "outputs": [],
   "source": [
    "clean_results = df[['policy','alpha','regret','MCC','TP','TN','FP','FN','n_variants']]\n",
    "clean_results = clean_results.round(3)\n",
    "clean_results.head()"
   ]
  },
  {
   "cell_type": "code",
   "execution_count": null,
   "metadata": {
    "ExecuteTime": {
     "end_time": "2020-05-27T10:01:44.606235Z",
     "start_time": "2020-05-27T10:01:44.563258Z"
    }
   },
   "outputs": [],
   "source": [
    "if save_plots: \n",
    "    f = open(r\"C:\\Building Blocks\\Innovation - Documents\\129. Thesis Jop\\Thesis Jop Heuvelmans - BB & JADS\\Figures\\results1.tex\",\"w+\")\n",
    "    f.write(clean_results.to_latex())\n",
    "    f.close()"
   ]
  },
  {
   "cell_type": "markdown",
   "metadata": {},
   "source": [
    "# Scatter plot"
   ]
  },
  {
   "cell_type": "code",
   "execution_count": null,
   "metadata": {
    "ExecuteTime": {
     "end_time": "2020-05-27T10:01:47.270508Z",
     "start_time": "2020-05-27T10:01:46.886024Z"
    },
    "scrolled": false
   },
   "outputs": [],
   "source": [
    "groups = df.groupby(['policy'])\n",
    "plt.figure(figsize=(10,7))\n",
    "for name, group in groups:\n",
    "    plt.scatter(group['MCC'], group['regret'], label=name, color=colors[name])\n",
    "#df.apply(lambda row: plt.text(row['MCC']*1.001, row['total_reward']*1.001, round(row['alpha'],3)), axis=1)\n",
    "plt.legend(loc='upper left')\n",
    "plt.xlabel('MCC (Accuracy)')\n",
    "plt.ylabel('Regret (Efficiency)')\n",
    "#plt.ylim(390000, 480000)\n",
    "plt.xlim(0.1, 0.85)\n",
    "if save_plots: plt.savefig(r\"C:\\Building Blocks\\Innovation - Documents\\129. Thesis Jop\\Thesis Jop Heuvelmans - BB & JADS\\Figures\\scatter.pdf\")\n",
    "plt.show()"
   ]
  },
  {
   "cell_type": "markdown",
   "metadata": {},
   "source": [
    "# Top 15 Accuracy"
   ]
  },
  {
   "cell_type": "code",
   "execution_count": null,
   "metadata": {
    "ExecuteTime": {
     "end_time": "2020-05-27T10:01:49.633231Z",
     "start_time": "2020-05-27T10:01:49.611290Z"
    }
   },
   "outputs": [],
   "source": [
    "top15_accuracy = df.sort_values(['MCC'], ascending=False).head(15)[['policy','alpha','MCC','initial_pulls']].reset_index().drop(['index'],axis=1)\n",
    "top15_accuracy.index += 1\n",
    "top15_accuracy"
   ]
  },
  {
   "cell_type": "code",
   "execution_count": null,
   "metadata": {
    "ExecuteTime": {
     "end_time": "2020-05-27T10:01:51.814205Z",
     "start_time": "2020-05-27T10:01:51.797249Z"
    }
   },
   "outputs": [],
   "source": [
    "#Write top 15 in accuracy to LaTex table\n",
    "if save_plots: \n",
    "    f = open(r\"C:\\Building Blocks\\Innovation - Documents\\129. Thesis Jop\\Thesis Jop Heuvelmans - BB & JADS\\Figures\\accuracy_top15.tex\",\"w+\")\n",
    "    f.write(top15_accuracy.to_latex())\n",
    "    f.close()"
   ]
  },
  {
   "cell_type": "markdown",
   "metadata": {},
   "source": [
    "# MCC, precision and recall"
   ]
  },
  {
   "cell_type": "code",
   "execution_count": null,
   "metadata": {
    "ExecuteTime": {
     "end_time": "2020-05-27T10:01:55.203283Z",
     "start_time": "2020-05-27T10:01:53.881588Z"
    }
   },
   "outputs": [],
   "source": [
    "groups = df.groupby(['policy'])\n",
    "fig, axs = plt.subplots(3, 1, figsize=(10,14))\n",
    "metrics = [('a','MCC'), ('b','precision'), ('c','recall')]\n",
    "for ax, metric in zip(axs.flat, metrics): \n",
    "    for name, group in groups:\n",
    "        ax.plot(group['alpha'], group[metric[1]], label=name, color=colors[name])\n",
    "        ax.set_xlabel('alpha')\n",
    "        ax.set_title('({}): {}'.format(metric[0], metric[1]))\n",
    "        ax.legend(loc='lower right')\n",
    "        #ax.set_ylim(0.5,1)\n",
    "fig.tight_layout(pad=2.0)\n",
    "plt.savefig(r\"C:\\Building Blocks\\Innovation - Documents\\129. Thesis Jop\\Thesis Jop Heuvelmans - BB & JADS\\Figures\\accuracy_metrics.pdf\")\n",
    "plt.show()"
   ]
  },
  {
   "cell_type": "markdown",
   "metadata": {},
   "source": [
    "# Alpha & FPR"
   ]
  },
  {
   "cell_type": "code",
   "execution_count": null,
   "metadata": {
    "ExecuteTime": {
     "end_time": "2020-05-27T10:01:58.137906Z",
     "start_time": "2020-05-27T10:01:57.625954Z"
    }
   },
   "outputs": [],
   "source": [
    "df['alpha/(K*2)'] = df['alpha'] / (4*2)\n",
    "\n",
    "groups = df.groupby(['policy'])\n",
    "fig, axs = plt.subplots(1, 1, figsize=(10,5))\n",
    "for name, group in groups:\n",
    "    axs.plot(group['alpha'], group['FPR'], label='FPR {}'.format(name), color=colors[name])       \n",
    "axs.set_title('FPR')\n",
    "#axs.set_ylim(0, 0.7)\n",
    "axs.plot(group['alpha'], group['alpha'], label='alpha', color=colors['precision'])\n",
    "axs.plot(group['alpha'], group['alpha/(K*2)'], label='alpha/(K*2)', linestyle=':', color=colors['precision'])\n",
    "axs.legend()\n",
    "axs.set_ylabel('alpha, FPR')\n",
    "axs.set_xlabel('alpha')\n",
    "\n",
    "fig.tight_layout(pad=2.0)\n",
    "\n",
    "plt.savefig(r\"C:\\Building Blocks\\Innovation - Documents\\129. Thesis Jop\\Thesis Jop Heuvelmans - BB & JADS\\Figures\\fpr.pdf\")\n",
    "plt.show()"
   ]
  },
  {
   "cell_type": "markdown",
   "metadata": {},
   "source": [
    "# Net regret and sample size"
   ]
  },
  {
   "cell_type": "code",
   "execution_count": null,
   "metadata": {
    "ExecuteTime": {
     "end_time": "2020-05-27T10:02:00.850829Z",
     "start_time": "2020-05-27T10:02:00.493490Z"
    }
   },
   "outputs": [],
   "source": [
    "groups = df.groupby(['policy'])\n",
    "plt.figure(figsize=(10,7))\n",
    "for name, group in groups:\n",
    "    plt.scatter(group['sample_complexity'], group['regret'], label=name, color=colors[name])\n",
    "#df.apply(lambda row: plt.text(row['MCC']*1.001, row['total_reward']*1.001, round(row['alpha'],3)), axis=1)\n",
    "plt.legend(loc='upper left')\n",
    "plt.xlabel('Sample complexity')\n",
    "plt.ylabel('Regret')\n",
    "#plt.title('Regret and sample complexity')\n",
    "#plt.ylim(390000, 480000)\n",
    "#plt.xlim(0.1, 0.9)\n",
    "plt.savefig(r\"C:\\Building Blocks\\Innovation - Documents\\129. Thesis Jop\\Thesis Jop Heuvelmans - BB & JADS\\Figures\\regret_complexity.pdf\")\n",
    "plt.show()"
   ]
  },
  {
   "cell_type": "markdown",
   "metadata": {},
   "source": [
    "# Example LUCB"
   ]
  },
  {
   "cell_type": "code",
   "execution_count": null,
   "metadata": {
    "ExecuteTime": {
     "end_time": "2020-05-27T10:02:03.198342Z",
     "start_time": "2020-05-27T10:02:03.190366Z"
    }
   },
   "outputs": [],
   "source": [
    "def phi(n_pulls, delta):\n",
    "    \"\"\" Calculates phi to use in confidence interval calculations.\n",
    "\n",
    "    :param n_pulls int: number of pulls taken from this arm.\n",
    "    :param delta float: confidence level.\n",
    "\n",
    "    :return: phi float: phi.\n",
    "    \"\"\"\n",
    "    item_1 = np.log(1 / delta)\n",
    "    item_2 = 3 * np.log(np.log(1 / delta))\n",
    "    item_3 = (3 / 2) * np.log(np.log(np.e * n_pulls))\n",
    "    return np.sqrt((item_1 + item_2 + item_3) / n_pulls)"
   ]
  },
  {
   "cell_type": "code",
   "execution_count": null,
   "metadata": {
    "ExecuteTime": {
     "end_time": "2020-05-27T10:02:38.002063Z",
     "start_time": "2020-05-27T10:02:05.317819Z"
    }
   },
   "outputs": [],
   "source": [
    "high_rewards = [np.random.binomial(1,0.2,1)[0] for i in range(25000)]\n",
    "high_mean = [np.mean(high_rewards[0:i]) for i in range(len(high_rewards))]\n",
    "high_LCB = [(high_mean[i] - phi(i, (0.05 / (2 * 4)))) for i in range(len(high_rewards))]\n",
    "high_UCB = [(high_mean[i] + phi(i, (0.05 / 2))) for i in range(len(high_rewards))]"
   ]
  },
  {
   "cell_type": "code",
   "execution_count": null,
   "metadata": {
    "ExecuteTime": {
     "end_time": "2020-05-27T10:03:19.828294Z",
     "start_time": "2020-05-27T10:02:40.731785Z"
    }
   },
   "outputs": [],
   "source": [
    "low_rewards = [np.random.binomial(1,0.15,1)[0] for i in range(25000)]\n",
    "low_mean = [np.mean(low_rewards[0:i]) for i in range(len(low_rewards))]\n",
    "low_LCB = [(low_mean[i] - phi(i, (0.05 / (2 * 4)))) for i in range(len(low_rewards))]\n",
    "low_UCB = [(low_mean[i] + phi(i, (0.05 / 2))) for i in range(len(low_rewards))]"
   ]
  },
  {
   "cell_type": "code",
   "execution_count": null,
   "metadata": {
    "ExecuteTime": {
     "end_time": "2020-05-27T10:03:23.479825Z",
     "start_time": "2020-05-27T10:03:23.031026Z"
    }
   },
   "outputs": [],
   "source": [
    "for i in range(len(low_LCB)):\n",
    "    if  high_LCB[i] > low_UCB[i]: \n",
    "        cross_over = i\n",
    "        break\n",
    "fig, ax = plt.subplots(figsize=(10,6))\n",
    "ax.plot(np.arange(25000),high_mean, color='blue', label='true sc = 0.2')\n",
    "ax.fill_between(np.arange(25000), high_LCB, high_UCB)\n",
    "ax.plot(np.arange(25000),low_mean, color='red', label='true mean = 0.1')\n",
    "ax.fill_between(np.arange(25000), low_LCB, low_UCB)\n",
    "ax.vlines(cross_over, 0, 0.5, linestyle=':', label='Terminate')\n",
    "ax.legend()\n",
    "#plt.plot(np.arange(10000),LCB, color='blue', line)\n",
    "#plt.plot(np.arange(10000),UCB, color='blue')\n",
    "#plt.vlines(2500, -3, 3, linestyle=':')\n",
    "ax.set_ylabel('reward')\n",
    "ax.set_xlabel('number of pulls')\n",
    "ax.set_ylim(0, 0.5)\n",
    "if save_fig: plt.savefig(r\"C:\\Building Blocks\\Innovation - Documents\\129. Thesis Jop\\Thesis Jop Heuvelmans - BB & JADS\\Figures\\LUCB.pdf\")\n",
    "plt.show()"
   ]
  },
  {
   "cell_type": "markdown",
   "metadata": {},
   "source": [
    "# Example LUCB"
   ]
  },
  {
   "cell_type": "code",
   "execution_count": null,
   "metadata": {
    "ExecuteTime": {
     "end_time": "2020-05-27T10:04:08.352656Z",
     "start_time": "2020-05-27T10:03:58.325198Z"
    }
   },
   "outputs": [],
   "source": [
    "save_fig = True\n",
    "arm_names = {0: 'A',\n",
    "             1: 'B',\n",
    "             2: 'C',\n",
    "             3: 'D'}\n",
    "\n",
    "meta_experiment = pickle.load(open(r\"example_3.p\",\"rb\"))\n",
    "\n",
    "experiment_number = 0\n",
    "BS_LUCB = meta_experiment.simulations[0].experiments[experiment_number]\n",
    "LUCB = meta_experiment.simulations[1].experiments[experiment_number]\n",
    "\n",
    "colours = [\"#9b59b6\", \"#e74c3c\", \"#34495e\", \"#2ecc71\"]\n",
    "\n",
    "initial_pulls = 2500\n",
    "pulls_per_round = 100 \n",
    "\n",
    "initial_pulls = 2500\n",
    "pulls_per_round = 100 \n",
    "max_pulls = 100000\n",
    "\n",
    "fig, ((ax1, ax2), (ax3, ax4)) = plt.subplots(2,2,figsize=(11,8))\n",
    "for index, arm in enumerate(BS_LUCB.arms):\n",
    "    ax1.plot([n_pulls for n_pulls, value in arm.mean_history] + [BS_LUCB.total_pulls],\n",
    "             [value for n_pulls, value in arm.mean_history] + [arm.mean_history[-1][1]],\n",
    "             color = colours[index],\n",
    "             label='mean arm {}'.format(arm_names[arm.identifier]))\n",
    "    ax1.fill_between([n_pulls for n_pulls, value in arm.mean_history] + [BS_LUCB.total_pulls],\n",
    "                     [value for n_pulls, value in arm.LCB_history] + [arm.LCB_history[-1][1]],\n",
    "                     [value for n_pulls, value in arm.UCB_history] + [arm.UCB_history[-1][1]],\n",
    "                     alpha=0.5,\n",
    "                     color = colours[index])\n",
    "    ax1.hlines(arm.true_mean, 0,BS_LUCB.total_pulls, linestyle=':', color = colours[index], label='true success probability arm {}'.format(arm_names[arm.identifier]))\n",
    "ax1.vlines(initial_pulls*len(BS_LUCB.arms), 0.09,0.175, linestyle='--')\n",
    "ax1.set_xlim(0,max_pulls)\n",
    "ax1.text((initial_pulls*len(BS_LUCB.arms))*1.1, 0.17, 'initial_pulls done')\n",
    "ax1.set_ylim(0.09,0.175)\n",
    "ax1.set_title('(a) Mean and CB for Bootstrapped LUCB')\n",
    "\n",
    "\n",
    "for index, arm in enumerate(LUCB.arms):\n",
    "    ax2.plot([n_pulls for n_pulls, value in arm.mean_history] + [LUCB.total_pulls],\n",
    "              [value for n_pulls, value in arm.mean_history] + [arm.mean_history[-1][1]],\n",
    "              color = colours[index])\n",
    "    ax2.fill_between([n_pulls for n_pulls, value in arm.mean_history] + [LUCB.total_pulls],\n",
    "                     [value for n_pulls, value in arm.LCB_history] + [arm.LCB_history[-1][1]],\n",
    "                     [value for n_pulls, value in arm.UCB_history] + [arm.UCB_history[-1][1]],\n",
    "                     alpha=0.5,\n",
    "                     color = colours[index])\n",
    "    ax2.hlines(arm.true_mean, 0,LUCB.total_pulls, linestyle=':', color = colours[index])\n",
    "ax2.set_xlim(0, max_pulls)\n",
    "ax2.set_ylim(0.09,0.175)\n",
    "ax2.set_title('(b) Mean and confidence bound for LUCB')\n",
    "\n",
    "\n",
    "\n",
    "history = pd.DataFrame(columns=['Arm'], data=[arm.identifier for arm in BS_LUCB.history])\n",
    "history = history.merge(pd.get_dummies(history['Arm']), left_index=True, right_index=True)\n",
    "for arm in list(history['Arm'].unique()):\n",
    "    history['{}_cumsum'.format(arm)] = history[arm].cumsum()\n",
    "ax3.stackplot(history.index, history[['1_cumsum','2_cumsum','0_cumsum','3_cumsum']].transpose().values,\n",
    "              colors=[colours[1], colours[2], colours[0], colours[3]])\n",
    "ax3.set_xlim(0,max_pulls)\n",
    "ax3.vlines(initial_pulls*len(BS_LUCB.arms), 0, 100000, linestyle='--')\n",
    "ax3.text((initial_pulls*len(BS_LUCB.arms))*1.1, 80000, 'initial_pulls done')\n",
    "ax3.set_title('(c) History for Bootstrapped LUCB')\n",
    "ax3.set_ylim(0,100000)\n",
    "\n",
    "history = pd.DataFrame(columns=['Arm'], data=[arm.identifier for arm in LUCB.history])\n",
    "history = history.merge(pd.get_dummies(history['Arm']), left_index=True, right_index=True)\n",
    "for arm in list(history['Arm'].unique()):\n",
    "    history['{}_cumsum'.format(arm)] = history[arm].cumsum()\n",
    "ax4.stackplot(history.index, history[['1_cumsum','2_cumsum','0_cumsum','3_cumsum']].transpose().values,\n",
    "             colors=[colours[1], colours[2], colours[0], colours[3]])\n",
    "ax4.set_xlim(0,max_pulls)\n",
    "ax4.set_title('(d) History for LUCB')\n",
    "ax4.set_ylim(0,100000)\n",
    "\n",
    "for ax in ax1, ax2, ax3, ax4: \n",
    "    ax.set_xlabel('pull number')\n",
    "    \n",
    "for ax in ax1, ax2:\n",
    "    ax.set_ylabel('mean reward')\n",
    "    \n",
    "for ax in ax3, ax4:\n",
    "    ax.set_ylabel('cumulative number of pulls')\n",
    "    \n",
    "box = ax4.get_position()\n",
    "ax4.set_position([box.x0, box.y0, box.width * 0.8, box.height])\n",
    "\n",
    "# Put a legend to the right of the current axis\n",
    "lgd = fig.legend(loc='center left', bbox_to_anchor=(1, 0.5))\n",
    "\n",
    "#fig.legend()\n",
    "plt.tight_layout()\n",
    "if save_fig: fig.savefig(r\"C:\\Building Blocks\\Innovation - Documents\\129. Thesis Jop\\Thesis Jop Heuvelmans - BB & JADS\\Figures\\LUCB_example_2.pdf\", bbox_extra_artists=(lgd,), bbox_inches='tight')\n",
    "plt.show()\n",
    "\n",
    "\n",
    "history = [arm.identifier for arm in BS_LUCB.history]\n",
    "crossover = len(history) - 1 - history[::-1].index(0)\n",
    "\n",
    "fig, ax1 = plt.subplots(figsize=(10,7))\n",
    "for index, arm in enumerate(BS_LUCB.arms[:3]):\n",
    "    ax1.plot([n_pulls for n_pulls, value in arm.mean_history] + [BS_LUCB.total_pulls],\n",
    "            [value for n_pulls, value in arm.mean_history] + [arm.mean_history[-1][1]],\n",
    "             color = colours[index],\n",
    "            label='mean arm {}'.format(arm_names[arm.identifier]))\n",
    "    ax1.fill_between([n_pulls for n_pulls, value in arm.mean_history] + [BS_LUCB.total_pulls],\n",
    "                     [value for n_pulls, value in arm.LCB_history] + [arm.LCB_history[-1][1]],\n",
    "                     [value for n_pulls, value in arm.UCB_history] + [arm.UCB_history[-1][1]],\n",
    "                     alpha=0.5,\n",
    "                     color = colours[index])\n",
    "    ax1.hlines(arm.true_mean, 0,BS_LUCB.total_pulls, linestyle=':', color = colours[index], label='true success probability arm {}'.format(arm_names[arm.identifier]))\n",
    "ylim = (0.105, 0.14)\n",
    "ax1.vlines(initial_pulls*len(BS_LUCB.arms), ymin = ylim[0], ymax=ylim[1], linestyle='--', lw=1)\n",
    "ax1.text((initial_pulls*len(BS_LUCB.arms))*1.05, ylim[1]*0.98, 'initial_pulls done')\n",
    "ax1.vlines(crossover, 0.09,0.175, linestyle='--', lw=1)\n",
    "ax1.text(crossover*1.01, ylim[1]*0.98, 'control arm (A) beaten')\n",
    "ax1.set_xlim(0,BS_LUCB.total_pulls + 1000)\n",
    "ax1.set_ylabel('mean reward')\n",
    "ax1.set_xlabel('pull number')\n",
    "ax1.set_title('(a) Mean and CB for Bootstrapped LUCB')\n",
    "\n",
    "ax1.set_ylim(ylim)\n",
    "fig.legend(loc='center left', bbox_to_anchor=(1, 0.5))\n",
    "\n",
    "\n",
    "#fig.legend()\n",
    "plt.tight_layout()\n",
    "if save_fig: plt.savefig(r\"C:\\Building Blocks\\Innovation - Documents\\129. Thesis Jop\\Thesis Jop Heuvelmans - BB & JADS\\Figures\\LUCB_example_3.pdf\")\n",
    "plt.show()\n",
    "\n",
    "\n",
    "#### BS_LUCB = meta_experiment.simulations[0].experiments[0]\n",
    "LUCB = meta_experiment.simulations[1].experiments[0]\n",
    "\n",
    "width = 0.25\n",
    "plt.figure(figsize=(8,6))\n",
    "plt.bar(np.arange(len(BS_LUCB.arms))-width, [arm.true_mean for arm in BS_LUCB.arms], width=width, label='True mean',\n",
    "       color='#bcbd22')\n",
    "plt.bar(np.arange(len(BS_LUCB.arms)), [arm.mean for arm in BS_LUCB.arms], width=width, \n",
    "        label='Bootstrapped LUCB (after {} pulls)'.format(BS_LUCB.total_pulls),\n",
    "        yerr = [(arm.UCB - arm.LCB)/2 for arm in BS_LUCB.arms], color='#1f77b4')\n",
    "plt.bar(np.arange(len(LUCB.arms))+width, [arm.mean for arm in LUCB.arms], width=width,\n",
    "        label='LUCB (after {} pulls)'.format(LUCB.total_pulls),\n",
    "        yerr = [(arm.UCB - arm.LCB)/2 for arm in LUCB.arms], color='#d62728')\n",
    "plt.ylim(0.08, 0.16)\n",
    "plt.legend()\n",
    "plt.xlabel('Arm')\n",
    "plt.ylabel('Mean reward')\n",
    "plt.xticks(np.arange(len(BS_LUCB.arms)), ('A', 'B', 'C', 'D'))\n",
    "if save_fig: plt.savefig(r\"C:\\Building Blocks\\Innovation - Documents\\129. Thesis Jop\\Thesis Jop Heuvelmans - BB & JADS\\Figures\\LUCB_example.pdf\")\n",
    "plt.show()"
   ]
  }
 ],
 "metadata": {
  "kernelspec": {
   "display_name": "Python 3",
   "language": "python",
   "name": "python3"
  },
  "language_info": {
   "codemirror_mode": {
    "name": "ipython",
    "version": 3
   },
   "file_extension": ".py",
   "mimetype": "text/x-python",
   "name": "python",
   "nbconvert_exporter": "python",
   "pygments_lexer": "ipython3",
   "version": "3.7.6"
  },
  "toc": {
   "base_numbering": 1,
   "nav_menu": {},
   "number_sections": true,
   "sideBar": true,
   "skip_h1_title": false,
   "title_cell": "Table of Contents",
   "title_sidebar": "Contents",
   "toc_cell": false,
   "toc_position": {},
   "toc_section_display": true,
   "toc_window_display": false
  },
  "varInspector": {
   "cols": {
    "lenName": 16,
    "lenType": 16,
    "lenVar": 40
   },
   "kernels_config": {
    "python": {
     "delete_cmd_postfix": "",
     "delete_cmd_prefix": "del ",
     "library": "var_list.py",
     "varRefreshCmd": "print(var_dic_list())"
    },
    "r": {
     "delete_cmd_postfix": ") ",
     "delete_cmd_prefix": "rm(",
     "library": "var_list.r",
     "varRefreshCmd": "cat(var_dic_list()) "
    }
   },
   "position": {
    "height": "424px",
    "left": "1584px",
    "right": "20px",
    "top": "120px",
    "width": "316px"
   },
   "types_to_exclude": [
    "module",
    "function",
    "builtin_function_or_method",
    "instance",
    "_Feature"
   ],
   "window_display": false
  }
 },
 "nbformat": 4,
 "nbformat_minor": 4
}
