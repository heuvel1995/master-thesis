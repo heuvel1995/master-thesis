{
 "cells": [
  {
   "cell_type": "code",
   "execution_count": 2,
   "metadata": {
    "ExecuteTime": {
     "end_time": "2020-04-16T13:50:17.391789Z",
     "start_time": "2020-04-16T13:50:13.140137Z"
    }
   },
   "outputs": [],
   "source": [
    "from Simulations import *\n",
    "import os\n",
    "import pickle\n",
    "from joblib import Parallel, delayed"
   ]
  },
  {
   "cell_type": "markdown",
   "metadata": {},
   "source": [
    "# Evaluate MetaTests"
   ]
  },
  {
   "cell_type": "code",
   "execution_count": 5,
   "metadata": {
    "ExecuteTime": {
     "end_time": "2020-04-16T13:51:08.748744Z",
     "start_time": "2020-04-16T13:51:00.213204Z"
    }
   },
   "outputs": [
    {
     "name": "stdout",
     "output_type": "stream",
     "text": [
      "File,  0\n",
      "File,  1\n",
      "File,  2\n",
      "File,  3\n",
      "File,  4\n",
      "File,  5\n",
      "File,  6\n",
      "File,  7\n",
      "File,  8\n",
      "File,  9\n",
      "File,  10\n",
      "File,  11\n",
      "File,  12\n",
      "File,  13\n",
      "File,  14\n",
      "File,  15\n"
     ]
    }
   ],
   "source": [
    "path = r\"C:\\Users\\jop\\Desktop\\sim_fewer_variants\\result\"\n",
    "result = [] \n",
    "for index, file in enumerate(os.listdir(path)): \n",
    "    print('File, ',index)\n",
    "    meta_experiment = dill.load(open('{}\\\\{}'.format(path, file),'rb'))\n",
    "    meta_experiment['simulation_nr'] = index+1\n",
    "    result.append(meta_experiment)\n",
    "\n",
    "df = pd.concat(result)\n",
    "\n",
    "pickle.dump(df,open(r'C:\\Users\\jop\\Building Blocks\\Innovation - 129. Thesis Jop\\Thesis Jop Heuvelmans - BB Only\\Simulations\\fewer_variants.p','wb'))"
   ]
  },
  {
   "cell_type": "code",
   "execution_count": 16,
   "metadata": {},
   "outputs": [],
   "source": [
    "meta_experiment = dill.load(open(\"C:\\\\Users\\\\jop\\Desktop\\\\new_simulations\\\\sim_2.p\",'rb'))"
   ]
  },
  {
   "cell_type": "code",
   "execution_count": null,
   "metadata": {},
   "outputs": [],
   "source": []
  }
 ],
 "metadata": {
  "kernelspec": {
   "display_name": "Python 3",
   "language": "python",
   "name": "python3"
  },
  "language_info": {
   "codemirror_mode": {
    "name": "ipython",
    "version": 3
   },
   "file_extension": ".py",
   "mimetype": "text/x-python",
   "name": "python",
   "nbconvert_exporter": "python",
   "pygments_lexer": "ipython3",
   "version": "3.7.4"
  },
  "toc": {
   "base_numbering": 1,
   "nav_menu": {},
   "number_sections": true,
   "sideBar": true,
   "skip_h1_title": false,
   "title_cell": "Table of Contents",
   "title_sidebar": "Contents",
   "toc_cell": false,
   "toc_position": {},
   "toc_section_display": true,
   "toc_window_display": false
  },
  "varInspector": {
   "cols": {
    "lenName": 16,
    "lenType": 16,
    "lenVar": 40
   },
   "kernels_config": {
    "python": {
     "delete_cmd_postfix": "",
     "delete_cmd_prefix": "del ",
     "library": "var_list.py",
     "varRefreshCmd": "print(var_dic_list())"
    },
    "r": {
     "delete_cmd_postfix": ") ",
     "delete_cmd_prefix": "rm(",
     "library": "var_list.r",
     "varRefreshCmd": "cat(var_dic_list()) "
    }
   },
   "types_to_exclude": [
    "module",
    "function",
    "builtin_function_or_method",
    "instance",
    "_Feature"
   ],
   "window_display": false
  }
 },
 "nbformat": 4,
 "nbformat_minor": 4
}
